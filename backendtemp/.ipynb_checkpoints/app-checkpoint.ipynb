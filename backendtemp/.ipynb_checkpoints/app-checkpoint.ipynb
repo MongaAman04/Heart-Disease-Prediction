{
 "cells": [
  {
   "cell_type": "code",
   "execution_count": 1,
   "id": "4351f2fd",
   "metadata": {},
   "outputs": [
    {
     "name": "stdout",
     "output_type": "stream",
     "text": [
      "Collecting Flask\n",
      "  Downloading Flask-2.2.5-py3-none-any.whl (101 kB)\n",
      "     ------------------------------------ 101.8/101.8 kB 832.5 kB/s eta 0:00:00\n",
      "Collecting click>=8.0\n",
      "  Downloading click-8.1.8-py3-none-any.whl (98 kB)\n",
      "     -------------------------------------- 98.2/98.2 kB 806.9 kB/s eta 0:00:00\n",
      "Collecting itsdangerous>=2.0\n",
      "  Downloading itsdangerous-2.1.2-py3-none-any.whl (15 kB)\n",
      "Collecting Werkzeug>=2.2.2\n",
      "  Downloading Werkzeug-2.2.3-py3-none-any.whl (233 kB)\n",
      "     -------------------------------------- 233.6/233.6 kB 1.2 MB/s eta 0:00:00\n",
      "Requirement already satisfied: importlib-metadata>=3.6.0 in c:\\users\\am\\anaconda3\\envs\\mlenv\\lib\\site-packages (from Flask) (6.7.0)\n",
      "Requirement already satisfied: Jinja2>=3.0 in c:\\users\\am\\anaconda3\\envs\\mlenv\\lib\\site-packages (from Flask) (3.1.6)\n",
      "Requirement already satisfied: colorama in c:\\users\\am\\anaconda3\\envs\\mlenv\\lib\\site-packages (from click>=8.0->Flask) (0.4.6)\n",
      "Requirement already satisfied: zipp>=0.5 in c:\\users\\am\\anaconda3\\envs\\mlenv\\lib\\site-packages (from importlib-metadata>=3.6.0->Flask) (3.15.0)\n",
      "Requirement already satisfied: typing-extensions>=3.6.4 in c:\\users\\am\\anaconda3\\envs\\mlenv\\lib\\site-packages (from importlib-metadata>=3.6.0->Flask) (4.7.1)\n",
      "Requirement already satisfied: MarkupSafe>=2.0 in c:\\users\\am\\anaconda3\\envs\\mlenv\\lib\\site-packages (from Jinja2>=3.0->Flask) (2.1.5)\n",
      "Installing collected packages: Werkzeug, itsdangerous, click, Flask\n",
      "Successfully installed Flask-2.2.5 Werkzeug-2.2.3 click-8.1.8 itsdangerous-2.1.2\n"
     ]
    }
   ],
   "source": [
    "!pip install Flask\n"
   ]
  },
  {
   "cell_type": "code",
   "execution_count": 1,
   "id": "f11d76e7",
   "metadata": {},
   "outputs": [],
   "source": [
    "from flask import Flask, render_template, request\n",
    "import numpy as np\n",
    "import pickle\n"
   ]
  },
  {
   "cell_type": "code",
   "execution_count": 7,
   "id": "6c82e810",
   "metadata": {},
   "outputs": [],
   "source": [
    "filename = 'heart-disease-prediction-knn-model.pkl'\n",
    "model = pickle.load(open(filename, 'rb'))\n",
    "app = Flask(__name__)\n",
    "\n",
    "@app.route('/')\n",
    "def home():\n",
    "\treturn render_template('main.html')\n",
    "\n",
    "\n",
    "@app.route('/predict', methods=['GET','POST'])\n",
    "def predict():\n",
    "    if request.method == 'POST':\n",
    "\n",
    "        age = int(request.form['age'])\n",
    "        sex = request.form.get('sex')\n",
    "        cp = request.form.get('cp')\n",
    "        trestbps = int(request.form['trestbps'])\n",
    "        chol = int(request.form['chol'])\n",
    "        fbs = request.form.get('fbs')\n",
    "        restecg = int(request.form['restecg'])\n",
    "        thalach = int(request.form['thalach'])\n",
    "        exang = request.form.get('exang')\n",
    "        oldpeak = float(request.form['oldpeak'])\n",
    "        slope = request.form.get('slope')\n",
    "        ca = int(request.form['ca'])\n",
    "        thal = request.form.get('thal')\n",
    "        \n",
    "        data = np.array([[age,sex,cp,trestbps,chol,fbs,restecg,thalach,exang,oldpeak,slope,ca,thal]])\n",
    "        my_prediction = model.predict(data)\n",
    "        \n",
    "        return render_template('result.html', prediction=my_prediction)\n",
    "        \n",
    "        \n",
    "\n",
    "# if __name__ == '__main__':\n",
    "# \tapp.run(debug=True)"
   ]
  },
  {
   "cell_type": "code",
   "execution_count": null,
   "id": "8eaff0a5",
   "metadata": {},
   "outputs": [],
   "source": []
  },
  {
   "cell_type": "code",
   "execution_count": null,
   "id": "73cba063",
   "metadata": {},
   "outputs": [],
   "source": []
  }
 ],
 "metadata": {
  "kernelspec": {
   "display_name": "Python [conda env:base] *",
   "language": "python",
   "name": "conda-base-py"
  },
  "language_info": {
   "codemirror_mode": {
    "name": "ipython",
    "version": 3
   },
   "file_extension": ".py",
   "mimetype": "text/x-python",
   "name": "python",
   "nbconvert_exporter": "python",
   "pygments_lexer": "ipython3",
   "version": "3.12.7"
  }
 },
 "nbformat": 4,
 "nbformat_minor": 5
}
