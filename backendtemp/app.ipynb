{
 "cells": [
  {
   "cell_type": "code",
   "execution_count": null,
   "id": "f11d76e7",
   "metadata": {},
   "outputs": [],
   "source": [
    "from flask import Flask, render_template, request ,jsonify\n",
    "import numpy as np\n",
    "import pickle\n",
    "from CORS import CORS"
   ]
  },
  {
   "cell_type": "code",
   "execution_count": null,
   "id": "6c82e810",
   "metadata": {},
   "outputs": [
    {
     "name": "stdout",
     "output_type": "stream",
     "text": [
      " * Serving Flask app '__main__'\n",
      " * Debug mode: on\n"
     ]
    },
    {
     "name": "stderr",
     "output_type": "stream",
     "text": [
      "WARNING: This is a development server. Do not use it in a production deployment. Use a production WSGI server instead.\n",
      " * Running on http://127.0.0.1:5000\n",
      "Press CTRL+C to quit\n",
      " * Restarting with watchdog (windowsapi)\n"
     ]
    },
    {
     "ename": "SystemExit",
     "evalue": "1",
     "output_type": "error",
     "traceback": [
      "An exception has occurred, use %tb to see the full traceback.\n",
      "\u001b[1;31mSystemExit\u001b[0m\u001b[1;31m:\u001b[0m 1\n"
     ]
    },
    {
     "name": "stderr",
     "output_type": "stream",
     "text": [
      "c:\\Users\\AM\\anaconda3\\Lib\\site-packages\\IPython\\core\\interactiveshell.py:3585: UserWarning: To exit: use 'exit', 'quit', or Ctrl-D.\n",
      "  warn(\"To exit: use 'exit', 'quit', or Ctrl-D.\", stacklevel=1)\n"
     ]
    }
   ],
   "source": [
    "filename = 'heart-disease-prediction-knn-model.pkl'\n",
    "model = pickle.load(open(filename, 'rb'))\n",
    "app = Flask(__name__)\n",
    "CORS(app)\n",
    " @app.route('/')\n",
    "def home():\n",
    "\treturn send_from_directory(app.static_folder, 'userINteraction.jsx')\n",
    "\n",
    "\n",
    "@app.route('/submit', methods=['GET','POST'])\n",
    "def predict():\n",
    "    if request.method == 'POST':\n",
    "\n",
    "        age = int(request.form['age'])\n",
    "        sex = request.form.get('sex')\n",
    "        cp = request.form.get('cp')\n",
    "        trestbps = int(request.form['trestbps'])\n",
    "        chol = int(request.form['chol'])\n",
    "        fbs = request.form.get('fbs')\n",
    "        restecg = int(request.form['restecg'])\n",
    "        thalach = int(request.form['thalach'])\n",
    "        exang = request.form.get('exang')\n",
    "        oldpeak = float(request.form['oldpeak'])\n",
    "        slope = request.form.get('slope')\n",
    "        ca = int(request.form['ca'])\n",
    "        thal = request.form.get('thal')\n",
    "\n",
    "\n",
    "        \n",
    "        data = np.array([[age,sex,cp,trestbps,chol,fbs,restecg,thalach,exang,oldpeak,slope,ca,thal]])\n",
    "        res = request.get_json()\n",
    "        data = np.array(res)\n",
    "        print(res)\n",
    "        my_prediction = model.predict(data)\n",
    "        \n",
    "        # return render_template(\"Frontend/src/result.jsx\", prediction=my_prediction)\n",
    "        return jsonify({'message':\"Data recieved sucessfully\",'prediction':my_prediction})\n",
    "    #      try:\n",
    "    #     res = request.get_json()\n",
    "    #     values = [float(res[key]) for key in [\n",
    "    #         'age','sex','cp','trestbps','chol','fbs','restecg','thalach',\n",
    "    #         'exang','oldpeak','slope','ca','thal'\n",
    "    #     ]]\n",
    "    #     data = np.array([values])\n",
    "    #     prediction = model.predict(data).tolist()\n",
    "    #     return jsonify({'message': \"Data received successfully\", 'prediction': prediction})\n",
    "    # except Exception as e:\n",
    "    #     return jsonify({'message': \"Error processing input\", 'error': str(e)}), 400\n",
    "   \n",
    "if __name__ == '__main__':\n",
    "\tapp.run(debug=True)"
   ]
  }
 ],
 "metadata": {
  "kernelspec": {
   "display_name": "base",
   "language": "python",
   "name": "python3"
  },
  "language_info": {
   "codemirror_mode": {
    "name": "ipython",
    "version": 3
   },
   "file_extension": ".py",
   "mimetype": "text/x-python",
   "name": "python",
   "nbconvert_exporter": "python",
   "pygments_lexer": "ipython3",
   "version": "3.12.7"
  }
 },
 "nbformat": 4,
 "nbformat_minor": 5
}
