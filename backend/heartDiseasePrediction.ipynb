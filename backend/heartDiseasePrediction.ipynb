{
 "cells": [
  {
   "cell_type": "code",
   "execution_count": 35,
   "id": "8d180ecb",
   "metadata": {},
   "outputs": [],
   "source": [
    "import numpy as np\n",
    "import pandas as pd\n",
    "import matplotlib.pyplot as plt\n",
    "from collections import Counter\n",
    "import seaborn as sns\n",
    "from sklearn.metrics import accuracy_score, classification_report, confusion_matrix\n",
    "from sklearn.preprocessing import StandardScaler\n",
    "from sklearn.pipeline import Pipeline\n",
    "from sklearn.model_selection import train_test_split, cross_val_score, KFold\n",
    "from sklearn.ensemble import AdaBoostClassifier, RandomForestClassifier\n",
    "from sklearn.svm import SVC\n",
    "from sklearn.linear_model import LogisticRegression\n",
    "from sklearn.neighbors import KNeighborsClassifier\n",
    "from sklearn.tree import DecisionTreeClassifier\n",
    "import pickle\n",
    "# import warnings\n",
    "# warnings.filterwarnings(\"ignore\")\n",
    "# pickle.dump(scaler, open(\"scaler.pkl\", \"wb\"))\n",
    "\n"
   ]
  },
  {
   "cell_type": "code",
   "execution_count": 37,
   "id": "e02042f3",
   "metadata": {},
   "outputs": [
    {
     "data": {
      "text/html": [
       "<div>\n",
       "<style scoped>\n",
       "    .dataframe tbody tr th:only-of-type {\n",
       "        vertical-align: middle;\n",
       "    }\n",
       "\n",
       "    .dataframe tbody tr th {\n",
       "        vertical-align: top;\n",
       "    }\n",
       "\n",
       "    .dataframe thead th {\n",
       "        text-align: right;\n",
       "    }\n",
       "</style>\n",
       "<table border=\"1\" class=\"dataframe\">\n",
       "  <thead>\n",
       "    <tr style=\"text-align: right;\">\n",
       "      <th></th>\n",
       "      <th>age</th>\n",
       "      <th>sex</th>\n",
       "      <th>cp</th>\n",
       "      <th>trestbps</th>\n",
       "      <th>chol</th>\n",
       "      <th>fbs</th>\n",
       "      <th>restecg</th>\n",
       "      <th>thalach</th>\n",
       "      <th>exang</th>\n",
       "      <th>oldpeak</th>\n",
       "      <th>slope</th>\n",
       "      <th>ca</th>\n",
       "      <th>thal</th>\n",
       "      <th>condition</th>\n",
       "    </tr>\n",
       "  </thead>\n",
       "  <tbody>\n",
       "    <tr>\n",
       "      <th>0</th>\n",
       "      <td>69</td>\n",
       "      <td>1</td>\n",
       "      <td>0</td>\n",
       "      <td>160</td>\n",
       "      <td>234</td>\n",
       "      <td>1</td>\n",
       "      <td>2</td>\n",
       "      <td>131</td>\n",
       "      <td>0</td>\n",
       "      <td>0.1</td>\n",
       "      <td>1</td>\n",
       "      <td>1</td>\n",
       "      <td>0</td>\n",
       "      <td>0</td>\n",
       "    </tr>\n",
       "    <tr>\n",
       "      <th>1</th>\n",
       "      <td>69</td>\n",
       "      <td>0</td>\n",
       "      <td>0</td>\n",
       "      <td>140</td>\n",
       "      <td>239</td>\n",
       "      <td>0</td>\n",
       "      <td>0</td>\n",
       "      <td>151</td>\n",
       "      <td>0</td>\n",
       "      <td>1.8</td>\n",
       "      <td>0</td>\n",
       "      <td>2</td>\n",
       "      <td>0</td>\n",
       "      <td>0</td>\n",
       "    </tr>\n",
       "    <tr>\n",
       "      <th>2</th>\n",
       "      <td>66</td>\n",
       "      <td>0</td>\n",
       "      <td>0</td>\n",
       "      <td>150</td>\n",
       "      <td>226</td>\n",
       "      <td>0</td>\n",
       "      <td>0</td>\n",
       "      <td>114</td>\n",
       "      <td>0</td>\n",
       "      <td>2.6</td>\n",
       "      <td>2</td>\n",
       "      <td>0</td>\n",
       "      <td>0</td>\n",
       "      <td>0</td>\n",
       "    </tr>\n",
       "    <tr>\n",
       "      <th>3</th>\n",
       "      <td>65</td>\n",
       "      <td>1</td>\n",
       "      <td>0</td>\n",
       "      <td>138</td>\n",
       "      <td>282</td>\n",
       "      <td>1</td>\n",
       "      <td>2</td>\n",
       "      <td>174</td>\n",
       "      <td>0</td>\n",
       "      <td>1.4</td>\n",
       "      <td>1</td>\n",
       "      <td>1</td>\n",
       "      <td>0</td>\n",
       "      <td>1</td>\n",
       "    </tr>\n",
       "    <tr>\n",
       "      <th>4</th>\n",
       "      <td>64</td>\n",
       "      <td>1</td>\n",
       "      <td>0</td>\n",
       "      <td>110</td>\n",
       "      <td>211</td>\n",
       "      <td>0</td>\n",
       "      <td>2</td>\n",
       "      <td>144</td>\n",
       "      <td>1</td>\n",
       "      <td>1.8</td>\n",
       "      <td>1</td>\n",
       "      <td>0</td>\n",
       "      <td>0</td>\n",
       "      <td>0</td>\n",
       "    </tr>\n",
       "    <tr>\n",
       "      <th>5</th>\n",
       "      <td>64</td>\n",
       "      <td>1</td>\n",
       "      <td>0</td>\n",
       "      <td>170</td>\n",
       "      <td>227</td>\n",
       "      <td>0</td>\n",
       "      <td>2</td>\n",
       "      <td>155</td>\n",
       "      <td>0</td>\n",
       "      <td>0.6</td>\n",
       "      <td>1</td>\n",
       "      <td>0</td>\n",
       "      <td>2</td>\n",
       "      <td>0</td>\n",
       "    </tr>\n",
       "    <tr>\n",
       "      <th>6</th>\n",
       "      <td>63</td>\n",
       "      <td>1</td>\n",
       "      <td>0</td>\n",
       "      <td>145</td>\n",
       "      <td>233</td>\n",
       "      <td>1</td>\n",
       "      <td>2</td>\n",
       "      <td>150</td>\n",
       "      <td>0</td>\n",
       "      <td>2.3</td>\n",
       "      <td>2</td>\n",
       "      <td>0</td>\n",
       "      <td>1</td>\n",
       "      <td>0</td>\n",
       "    </tr>\n",
       "    <tr>\n",
       "      <th>7</th>\n",
       "      <td>61</td>\n",
       "      <td>1</td>\n",
       "      <td>0</td>\n",
       "      <td>134</td>\n",
       "      <td>234</td>\n",
       "      <td>0</td>\n",
       "      <td>0</td>\n",
       "      <td>145</td>\n",
       "      <td>0</td>\n",
       "      <td>2.6</td>\n",
       "      <td>1</td>\n",
       "      <td>2</td>\n",
       "      <td>0</td>\n",
       "      <td>1</td>\n",
       "    </tr>\n",
       "    <tr>\n",
       "      <th>8</th>\n",
       "      <td>60</td>\n",
       "      <td>0</td>\n",
       "      <td>0</td>\n",
       "      <td>150</td>\n",
       "      <td>240</td>\n",
       "      <td>0</td>\n",
       "      <td>0</td>\n",
       "      <td>171</td>\n",
       "      <td>0</td>\n",
       "      <td>0.9</td>\n",
       "      <td>0</td>\n",
       "      <td>0</td>\n",
       "      <td>0</td>\n",
       "      <td>0</td>\n",
       "    </tr>\n",
       "    <tr>\n",
       "      <th>9</th>\n",
       "      <td>59</td>\n",
       "      <td>1</td>\n",
       "      <td>0</td>\n",
       "      <td>178</td>\n",
       "      <td>270</td>\n",
       "      <td>0</td>\n",
       "      <td>2</td>\n",
       "      <td>145</td>\n",
       "      <td>0</td>\n",
       "      <td>4.2</td>\n",
       "      <td>2</td>\n",
       "      <td>0</td>\n",
       "      <td>2</td>\n",
       "      <td>0</td>\n",
       "    </tr>\n",
       "  </tbody>\n",
       "</table>\n",
       "</div>"
      ],
      "text/plain": [
       "   age  sex  cp  trestbps  chol  fbs  restecg  thalach  exang  oldpeak  slope  \\\n",
       "0   69    1   0       160   234    1        2      131      0      0.1      1   \n",
       "1   69    0   0       140   239    0        0      151      0      1.8      0   \n",
       "2   66    0   0       150   226    0        0      114      0      2.6      2   \n",
       "3   65    1   0       138   282    1        2      174      0      1.4      1   \n",
       "4   64    1   0       110   211    0        2      144      1      1.8      1   \n",
       "5   64    1   0       170   227    0        2      155      0      0.6      1   \n",
       "6   63    1   0       145   233    1        2      150      0      2.3      2   \n",
       "7   61    1   0       134   234    0        0      145      0      2.6      1   \n",
       "8   60    0   0       150   240    0        0      171      0      0.9      0   \n",
       "9   59    1   0       178   270    0        2      145      0      4.2      2   \n",
       "\n",
       "   ca  thal  condition  \n",
       "0   1     0          0  \n",
       "1   2     0          0  \n",
       "2   0     0          0  \n",
       "3   1     0          1  \n",
       "4   0     0          0  \n",
       "5   0     2          0  \n",
       "6   0     1          0  \n",
       "7   2     0          1  \n",
       "8   0     0          0  \n",
       "9   0     2          0  "
      ]
     },
     "execution_count": 37,
     "metadata": {},
     "output_type": "execute_result"
    }
   ],
   "source": [
    "heart = pd.read_csv(\"heart_cleveland_upload.csv\")\n",
    "heart.head(10)"
   ]
  },
  {
   "cell_type": "code",
   "execution_count": 41,
   "id": "051f79f6",
   "metadata": {},
   "outputs": [
    {
     "name": "stdout",
     "output_type": "stream",
     "text": [
      "<class 'pandas.core.frame.DataFrame'>\n",
      "RangeIndex: 297 entries, 0 to 296\n",
      "Data columns (total 14 columns):\n",
      " #   Column     Non-Null Count  Dtype  \n",
      "---  ------     --------------  -----  \n",
      " 0   age        297 non-null    int64  \n",
      " 1   sex        297 non-null    int64  \n",
      " 2   cp         297 non-null    int64  \n",
      " 3   trestbps   297 non-null    int64  \n",
      " 4   chol       297 non-null    int64  \n",
      " 5   fbs        297 non-null    int64  \n",
      " 6   restecg    297 non-null    int64  \n",
      " 7   thalach    297 non-null    int64  \n",
      " 8   exang      297 non-null    int64  \n",
      " 9   oldpeak    297 non-null    float64\n",
      " 10  slope      297 non-null    int64  \n",
      " 11  ca         297 non-null    int64  \n",
      " 12  thal       297 non-null    int64  \n",
      " 13  condition  297 non-null    int64  \n",
      "dtypes: float64(1), int64(13)\n",
      "memory usage: 32.6 KB\n",
      "None\n"
     ]
    }
   ],
   "source": [
    "print(heart.info())"
   ]
  },
  {
   "cell_type": "code",
   "execution_count": 45,
   "id": "c0c64a1d",
   "metadata": {},
   "outputs": [],
   "source": [
    "heart_df = heart.copy()"
   ]
  },
  {
   "cell_type": "code",
   "execution_count": null,
   "id": "c245ce34",
   "metadata": {},
   "outputs": [],
   "source": [
    "heart_df = heart_df.rename(columns={'condition':'target'})\n",
    "heart_df.head()"
   ]
  },
  {
   "cell_type": "code",
   "execution_count": null,
   "id": "4815c4fc",
   "metadata": {},
   "outputs": [],
   "source": [
    "heart_df.isnull().values.any()"
   ]
  },
  {
   "cell_type": "code",
   "execution_count": null,
   "id": "7928e6d2",
   "metadata": {},
   "outputs": [],
   "source": [
    "sns.heatmap(heart_df.isnull(),cmap=\"icefire\")\n",
    "plt.title('Null Values Heatmap')\n",
    "plt.show()"
   ]
  },
  {
   "cell_type": "code",
   "execution_count": null,
   "id": "f4c75fd2",
   "metadata": {},
   "outputs": [],
   "source": [
    "heart_df.nunique()"
   ]
  },
  {
   "cell_type": "code",
   "execution_count": null,
   "id": "01a6511c",
   "metadata": {},
   "outputs": [],
   "source": [
    "heart_df['target'].value_counts()"
   ]
  },
  {
   "cell_type": "code",
   "execution_count": null,
   "id": "5eb9c7ae",
   "metadata": {},
   "outputs": [],
   "source": [
    "heart_df['target'].value_counts()/heart_df.shape[0]*100"
   ]
  },
  {
   "cell_type": "code",
   "execution_count": null,
   "id": "395cf180",
   "metadata": {},
   "outputs": [],
   "source": [
    "labels = ['yes', 'No']\n",
    "values = heart_df['target'].value_counts().values\n",
    "\n",
    "plt.pie(values, labels=labels, autopct='%1.0f%%')\n",
    "plt.title('Heart Disease')\n",
    "plt.show()"
   ]
  },
  {
   "cell_type": "code",
   "execution_count": null,
   "id": "0ed8f6cd",
   "metadata": {},
   "outputs": [],
   "source": [
    "fig=plt.figure(figsize=(16, 16))\n",
    "fig = plt.subplot(431)\n",
    "sns.kdeplot(heart_df['age'],shade=True,label=' Age')\n",
    "# plt.title ('Distribution of Age')\n",
    "plt.legend()\n",
    "fig = plt.subplot(432)\n",
    "heart_df['sex'].value_counts().plot(kind='bar',label=' sex', color=\"lightpink\")\n",
    "plt.xlabel('sex')\n",
    "# plt.title ('Distribution of sex')\n",
    "plt.legend()\n",
    "fig = plt.subplot(433)\n",
    "heart_df['cp'].value_counts().plot(kind='bar',label='pain')\n",
    "plt.xlabel('cp')\n",
    "# plt.title ('Distribution of chest pain')\n",
    "plt.legend()\n",
    "fig = plt.subplot(434)\n",
    "# sns.kdeplot(data['trtbps'],shade=True,label='blood pressure')\n",
    "sns.distplot(heart_df['trestbps'], color=\"red\",  kde= True,label='Blood Pressure')\n",
    "# plt.title ('Distribution of blood pressure')\n",
    "plt.legend()\n",
    "fig = plt.subplot(435)\n",
    "sns.kdeplot(heart_df['chol'],shade=True,label='cholestrol')\n",
    "# plt.title ('Distribution of cholestrol')\n",
    "plt.legend()\n",
    "fig = plt.subplot(436)\n",
    "heart_df['fbs'].value_counts().plot(kind='bar',label='Blood sugar', color=\"lightblue\")\n",
    "plt.xlabel('fbs')\n",
    "# plt.title ('Distribution of blood sugar')\n",
    "plt.legend()\n",
    "fig = plt.subplot(437)\n",
    "heart_df['restecg'].value_counts().plot(kind='bar',label='Electrocardiographic result')\n",
    "plt.xlabel('restecg')\n",
    "# plt.title ('Distribution of electrocardiographic result')\n",
    "plt.legend()\n",
    "fig = plt.subplot(438)\n",
    "# sns.kdeplot(data['thalachh'],shade=True,label='Maximum heart rate')\n",
    "sns.distplot(heart_df['thalach'], color=\"red\",  kde= True,label='Maximum heart rate')\n",
    "# plt.title ('Distribution of maximum heart rate')\n",
    "plt.legend()\n",
    "fig = plt.subplot(439)\n",
    "heart_df['exang'].value_counts().plot(kind='bar',label='Induced engina', color=\"orange\")\n",
    "plt.xlabel('exang')\n",
    "# plt.title ('Distribution of induced engina')\n",
    "plt.legend()\n",
    "fig = plt.subplot(4,3,10)\n",
    "sns.kdeplot(heart_df['oldpeak'],shade=True,label='Old peak')\n",
    "plt.xlabel('oldpeak')\n",
    "# plt.title ('Distribution of old peak')\n",
    "plt.legend()\n",
    "fig = plt.subplot(4,3,11)\n",
    "heart_df['slope'].value_counts().plot(kind='bar',label='Slope', color=\"brown\")\n",
    "plt.xlabel('slope')\n",
    "# plt.title ('Distribution of slope')\n",
    "plt.legend()\n",
    "fig = plt.subplot(4,3,12)\n",
    "heart_df['ca'].value_counts().plot(kind='bar',label='Major vessels')\n",
    "plt.xlabel('ca')\n",
    "# plt.title ('Distribution of no. of major vessels')\n",
    "plt.legend()\n",
    "plt.show()\n"
   ]
  },
  {
   "cell_type": "code",
   "execution_count": null,
   "id": "2abc5f37",
   "metadata": {},
   "outputs": [],
   "source": [
    "fig=plt.figure(figsize=(16,6))\n",
    "fig = plt.subplot(121)\n",
    "sns.distplot(heart_df[heart_df['target'] == 0][\"age\"], color='green',label='No heart Disease') \n",
    "sns.distplot(heart_df[heart_df['target'] == 1][\"age\"], color='red',label='Heart Disease') #Red for heart disease\n",
    "plt.ylabel('Frequency')\n",
    "plt.xlabel('Age')\n",
    "plt.title('Age distribtuion based on heart disease', fontsize=15)\n",
    "plt.legend()\n",
    "plt.show()"
   ]
  },
  {
   "cell_type": "code",
   "execution_count": null,
   "id": "a43bc2a5",
   "metadata": {},
   "outputs": [],
   "source": [
    "print('Min age of people who do not have heart disease: ', min(heart_df[heart_df['target'] == 0]['age']))\n",
    "print('Max age of people who do not have heart disease: ', max(heart_df[heart_df['target'] == 0]['age']))\n",
    "print('Average age of people who do not have heart disease: ', heart_df[heart_df['target'] == 0]['age'].mean())"
   ]
  },
  {
   "cell_type": "code",
   "execution_count": null,
   "id": "3de96502",
   "metadata": {},
   "outputs": [],
   "source": [
    "print('Min age of people who have heart disease: ', min(heart_df[heart_df['target'] == 1]['age']))\n",
    "print('Max age of people who have heart disease: ', max(heart_df[heart_df['target'] == 1]['age']))\n",
    "print('Average age of people who have heart disease: ', heart_df[heart_df['target'] == 1]['age'].mean())"
   ]
  },
  {
   "cell_type": "code",
   "execution_count": null,
   "id": "6726e3a5",
   "metadata": {},
   "outputs": [],
   "source": [
    "pd.crosstab(heart_df.cp,heart_df.target).plot(kind = \"bar\", figsize = (8, 6))\n",
    "plt.title('Heart Disease Frequency According to Chest Pain Type')\n",
    "plt.xlabel('Chest Pain Type')\n",
    "plt.xticks(np.arange(4), ('typical angina', 'atypical angina', 'non-anginal pain', 'asymptomatic'), rotation = 0)\n",
    "plt.ylabel('Frequency')\n",
    "plt.show()"
   ]
  },
  {
   "cell_type": "code",
   "execution_count": null,
   "id": "f69715ff",
   "metadata": {},
   "outputs": [],
   "source": [
    "fig, (axis1, axis2) = plt.subplots(1, 2,figsize=(25, 5))\n",
    "ax = sns.distplot(heart_df[heart_df['target'] == 0]['trestbps'], label='Do not have heart disease', ax = axis1)\n",
    "ax.set(xlabel='People Do Not Have Heart Disease')\n",
    "ax = sns.distplot(heart_df[heart_df['target'] == 1]['trestbps'], label = 'Have heart disease', ax = axis2)\n",
    "ax.set(xlabel='People Have Heart Disease')\n",
    "plt.show()\n"
   ]
  },
  {
   "cell_type": "code",
   "execution_count": null,
   "id": "2f8c7cbc",
   "metadata": {},
   "outputs": [],
   "source": [
    "print('Min blood pressure of people who do not have heart disease: ', min(heart_df[heart_df['target'] == 0]['trestbps']))\n",
    "print('Max blood pressure of people who do not have heart disease: ', max(heart_df[heart_df['target'] == 0]['trestbps']))\n",
    "print('Average blood pressure of people who do not have heart disease: ', heart_df[heart_df['target'] == 0]['trestbps'].mean())"
   ]
  },
  {
   "cell_type": "code",
   "execution_count": null,
   "id": "aa10f055",
   "metadata": {},
   "outputs": [],
   "source": [
    "print('Min blood pressure of people who have heart disease: ', min(heart_df[heart_df['target'] == 1]['trestbps']))\n",
    "print('Max blood pressure of people who have heart disease: ', max(heart_df[heart_df['target'] == 1]['trestbps']))\n",
    "print('Average blood pressure of people who have heart disease: ', heart_df[heart_df['target'] == 1]['trestbps'].mean())"
   ]
  },
  {
   "cell_type": "code",
   "execution_count": null,
   "id": "5cd8a796",
   "metadata": {},
   "outputs": [],
   "source": [
    "fig, (axis1, axis2) = plt.subplots(1, 2, figsize=(25, 5))\n",
    "ax = sns.distplot(heart_df[heart_df['target'] == 0]['chol'], label='Do not have heart disease', ax = axis1)\n",
    "ax.set(xlabel='People Do Not Have Heart Disease')\n",
    "ax = sns.distplot(heart_df[heart_df['target'] == 1]['chol'], label = 'Have heart disease', ax = axis2)\n",
    "ax.set(xlabel='People Have Heart Disease')\n",
    "plt.show()\n"
   ]
  },
  {
   "cell_type": "code",
   "execution_count": null,
   "id": "754ecdca",
   "metadata": {},
   "outputs": [],
   "source": [
    "print('Min cholestoral of people who do not have heart disease: ', min(heart_df[heart_df['target'] == 0]['chol']))\n",
    "print('Max cholestoral of people who do not have heart disease: ', max(heart_df[heart_df['target'] == 0]['chol']))\n",
    "print('Average cholestoral of people who do not have heart disease: ', heart_df[heart_df['target'] == 0]['chol'].mean())"
   ]
  },
  {
   "cell_type": "code",
   "execution_count": null,
   "id": "5810c3d1",
   "metadata": {},
   "outputs": [],
   "source": [
    "print('Min cholestoral of people who have heart disease: ', min(heart_df[heart_df['target'] == 1]['chol']))\n",
    "print('Max cholestoral of people who have heart disease: ', max(heart_df[heart_df['target'] == 1]['chol']))\n",
    "print('Average cholestorale of people who have heart disease: ', heart_df[heart_df['target'] == 1]['chol'].mean())"
   ]
  },
  {
   "cell_type": "code",
   "execution_count": null,
   "id": "53bfbf1b",
   "metadata": {},
   "outputs": [],
   "source": [
    "pd.crosstab(heart_df.fbs,heart_df.target).plot(kind = \"bar\", figsize = (8, 6))\n",
    "plt.title('Heart Disease Frequency According to Fasting Blood Sugar')\n",
    "plt.xlabel('Fasting Blood Sugar')\n",
    "plt.xticks(np.arange(2), ('fbs < 120 mg/dl', 'fbs > 120 mg/dl'), rotation = 0)\n",
    "plt.ylabel('Frequency')\n",
    "plt.show()\n"
   ]
  },
  {
   "cell_type": "code",
   "execution_count": null,
   "id": "c9b4b901",
   "metadata": {},
   "outputs": [],
   "source": [
    "pd.crosstab(heart_df.restecg,heart_df.target).plot(kind = \"bar\", figsize = (8, 6))\n",
    "plt.title('Heart Disease Frequency According to Resting Electrocardiographic Results')\n",
    "plt.xticks(np.arange(3), ('normal', 'ST-T wave abnormality', 'probable or left ventricular hypertrophy'))\n",
    "plt.xlabel('Resting Electrocardiographic Results')\n",
    "plt.ylabel('Frequency')\n",
    "plt.show()"
   ]
  },
  {
   "cell_type": "code",
   "execution_count": null,
   "id": "a3135395",
   "metadata": {},
   "outputs": [],
   "source": [
    "fig, (axis1, axis2) = plt.subplots(1, 2, figsize=(25, 5))\n",
    "ax = sns.distplot(heart_df[heart_df['target'] == 0]['thalach'], label='Do not have heart disease', ax = axis1)\n",
    "ax.set(xlabel = 'People Do Not Have Heart Disease')\n",
    "ax = sns.distplot(heart_df[heart_df['target'] == 1]['thalach'], label = 'Have heart disease', ax = axis2)\n",
    "ax.set(xlabel = 'People Have Heart Disease')\n",
    "plt.show()\n"
   ]
  },
  {
   "cell_type": "code",
   "execution_count": null,
   "id": "47a0a6b6",
   "metadata": {},
   "outputs": [],
   "source": [
    "fig, (axis1, axis2) = plt.subplots(1, 2, figsize=(25, 5))\n",
    "ax = sns.distplot(heart_df[heart_df['target'] == 0]['oldpeak'], label='Do not have heart disease', ax = axis1)\n",
    "ax.set(xlabel = 'People Do Not Have Heart Disease')\n",
    "ax = sns.distplot(heart_df[heart_df['target'] == 1]['oldpeak'], label = 'Have heart disease', ax = axis2)\n",
    "ax.set(xlabel = 'People Have Heart Disease')\n",
    "plt.show()"
   ]
  },
  {
   "cell_type": "code",
   "execution_count": null,
   "id": "bcd8a804",
   "metadata": {},
   "outputs": [],
   "source": [
    "print('Min ST depression of people who do not have heart disease: ', min(heart_df[heart_df['target'] == 0]['oldpeak']))\n",
    "print('Max ST depression of people who do not have heart disease: ', max(heart_df[heart_df['target'] == 0]['oldpeak']))\n",
    "print('Average ST depression of people who do not have heart disease: ', heart_df[heart_df['target'] == 0]['oldpeak'].mean())\n",
    "\n",
    "\n",
    "     "
   ]
  },
  {
   "cell_type": "code",
   "execution_count": null,
   "id": "8bdf2468",
   "metadata": {},
   "outputs": [],
   "source": [
    "print('Min ST depression of people who have heart disease: ', min(heart_df[heart_df['target'] == 1]['oldpeak']))\n",
    "print('Max ST depression of people who have heart disease: ', max(heart_df[heart_df['target'] == 1]['oldpeak']))\n",
    "print('Average ST depression of people not have heart disease: ', heart_df[heart_df['target'] == 1]['oldpeak'].mean())"
   ]
  },
  {
   "cell_type": "code",
   "execution_count": null,
   "id": "6ac6fb6d",
   "metadata": {},
   "outputs": [],
   "source": [
    "pd.crosstab(heart_df.exang,heart_df.target).plot(kind = \"bar\", figsize = (8, 6))\n",
    "plt.title('Heart Disease Frequency According to Exercise Induced Angina')\n",
    "plt.xlabel('Exercise Induced Angina')\n",
    "plt.xticks(np.arange(2), ('No', 'Yes'), rotation = 0)\n",
    "plt.ylabel('Frequency')\n",
    "plt.show()"
   ]
  },
  {
   "cell_type": "code",
   "execution_count": null,
   "id": "7079be37",
   "metadata": {},
   "outputs": [],
   "source": [
    "pd.crosstab(heart_df.slope,heart_df.target).plot(kind = \"bar\", figsize = (8, 6))\n",
    "plt.title('Heart Disease Frequency According to Slope of the Peak Exercise ST Segment')\n",
    "plt.xlabel('Slope')\n",
    "plt.xticks(np.arange(3), ('upsloping', 'flat', 'downsloping'), rotation = 0)\n",
    "plt.ylabel('Frequency')\n",
    "plt.show()\n"
   ]
  },
  {
   "cell_type": "code",
   "execution_count": null,
   "id": "3b61a135",
   "metadata": {},
   "outputs": [],
   "source": [
    "pd.crosstab(heart_df.ca,heart_df.target).plot(kind = \"bar\", figsize = (8, 6))\n",
    "plt.title('Heart Disease Frequency According to Number of Major Vessels Colored by Flourosopy')\n",
    "plt.xlabel('number of vessels')\n",
    "plt.xticks(rotation = 0)\n",
    "plt.ylabel('Frequency')\n",
    "plt.show()\n"
   ]
  },
  {
   "cell_type": "code",
   "execution_count": null,
   "id": "135f1b40",
   "metadata": {},
   "outputs": [],
   "source": [
    "pd.crosstab(heart_df.thal,heart_df.target).plot(kind = \"bar\", figsize = (8, 6))\n",
    "plt.title('Heart Disease Frequency According to Thalassemia')\n",
    "plt.xlabel('Thalassemia')\n",
    "plt.xticks(np.arange(3), ('normal', 'fixed defect', 'reversible defect'), rotation = 0)\n",
    "plt.ylabel('Frequency')\n",
    "plt.show()\n",
    "\n"
   ]
  },
  {
   "cell_type": "code",
   "execution_count": null,
   "id": "940fb526",
   "metadata": {},
   "outputs": [],
   "source": [
    "plt.figure(figsize=(15, 15))\n",
    "plt.title('Correlation Matrix', size=20)\n",
    "sns.heatmap(heart_df.corr(), annot = True, cmap = \"Greens\")\n",
    "plt.show()"
   ]
  },
  {
   "cell_type": "code",
   "execution_count": null,
   "id": "46586bb2",
   "metadata": {},
   "outputs": [],
   "source": [
    "x= heart_df.drop(columns= 'target')\n",
    "y= heart_df.target\n",
    "\n",
    "# splitting our dataset into training and testing for this we will use train_test_split library.\n",
    "x_train, x_test, y_train, y_test= train_test_split(x, y, test_size= 0.25, random_state=42)\n",
    "print('X_train size: {}, X_test size: {}'.format(x_train.shape, x_test.shape))\n",
    "\n"
   ]
  },
  {
   "cell_type": "code",
   "execution_count": null,
   "id": "657e85a5",
   "metadata": {},
   "outputs": [],
   "source": [
    "scaler= StandardScaler()\n",
    "x_train_scaler= scaler.fit_transform(x_train)\n",
    "x_test_scaler= scaler.transform(x_test)\n"
   ]
  },
  {
   "cell_type": "code",
   "execution_count": null,
   "id": "d792f7f2",
   "metadata": {},
   "outputs": [],
   "source": [
    "LR_model= LogisticRegression()\n",
    "LR_model.fit(x_train_scaler, y_train)\n",
    "y_pred_LR= LR_model.predict(x_test_scaler)\n",
    "LR_model.score(x_test_scaler,y_test)\n"
   ]
  },
  {
   "cell_type": "code",
   "execution_count": null,
   "id": "c5adf0d7",
   "metadata": {},
   "outputs": [],
   "source": [
    "print('Classification Report\\n', classification_report(y_test, y_pred_LR))\n",
    "print('Accuracy: {}%\\n'.format(round((accuracy_score(y_test, y_pred_LR)*100),2)))"
   ]
  },
  {
   "cell_type": "code",
   "execution_count": null,
   "id": "ac827a11",
   "metadata": {},
   "outputs": [],
   "source": [
    "cm = confusion_matrix(y_test, y_pred_LR)\n",
    "cm\n"
   ]
  },
  {
   "cell_type": "code",
   "execution_count": null,
   "id": "89ae6410",
   "metadata": {},
   "outputs": [],
   "source": [
    "Knn_model= KNeighborsClassifier(n_neighbors = 5, metric = 'minkowski', p = 2)\n",
    "Knn_model.fit(x_train_scaler, y_train)\n",
    "y_pred_knn= Knn_model.predict(x_test_scaler)\n",
    "Knn_model.score(x_test_scaler,y_test)"
   ]
  },
  {
   "cell_type": "code",
   "execution_count": null,
   "id": "d6ae12e6",
   "metadata": {},
   "outputs": [],
   "source": [
    "print('Classification Report\\n', classification_report(y_test, y_pred_knn))\n",
    "print('Accuracy: {}%\\n'.format(round((accuracy_score(y_test, y_pred_knn)*100),2)))\n"
   ]
  },
  {
   "cell_type": "code",
   "execution_count": null,
   "id": "74567125",
   "metadata": {},
   "outputs": [],
   "source": [
    "print('Classification Report\\n', classification_report(y_test, y_pred_knn))\n",
    "print('Accuracy: {}%\\n'.format(round((accuracy_score(y_test, y_pred_knn)*100),2)))\n"
   ]
  },
  {
   "cell_type": "code",
   "execution_count": 22,
   "id": "d2abf41b",
   "metadata": {},
   "outputs": [
    {
     "ename": "NameError",
     "evalue": "name 'x_train_scaler' is not defined",
     "output_type": "error",
     "traceback": [
      "\u001b[1;31m---------------------------------------------------------------------------\u001b[0m",
      "\u001b[1;31mNameError\u001b[0m                                 Traceback (most recent call last)",
      "Cell \u001b[1;32mIn[22], line 2\u001b[0m\n\u001b[0;32m      1\u001b[0m SVC_model\u001b[38;5;241m=\u001b[39m SVC()\n\u001b[1;32m----> 2\u001b[0m SVC_model\u001b[38;5;241m.\u001b[39mfit(x_train_scaler, y_train)\n\u001b[0;32m      3\u001b[0m y_pred_SVC\u001b[38;5;241m=\u001b[39m SVC_model\u001b[38;5;241m.\u001b[39mpredict(x_test_scaler)\n\u001b[0;32m      4\u001b[0m SVC_model\u001b[38;5;241m.\u001b[39mscore(x_test_scaler,y_test)\n",
      "\u001b[1;31mNameError\u001b[0m: name 'x_train_scaler' is not defined"
     ]
    }
   ],
   "source": [
    "SVC_model= SVC()\n",
    "SVC_model.fit(x_train_scaler, y_train)\n",
    "y_pred_SVC= SVC_model.predict(x_test_scaler)\n",
    "SVC_model.score(x_test_scaler,y_test)"
   ]
  },
  {
   "cell_type": "code",
   "execution_count": null,
   "id": "819cd470",
   "metadata": {},
   "outputs": [],
   "source": [
    "print('Classification Report\\n', classification_report(y_test, y_pred_SVC))\n",
    "print('Accuracy: {}%\\n'.format(round((accuracy_score(y_test, y_pred_SVC)*100),2)))\n"
   ]
  },
  {
   "cell_type": "code",
   "execution_count": 25,
   "id": "5f0aec44",
   "metadata": {},
   "outputs": [
    {
     "ename": "NameError",
     "evalue": "name 'y_test' is not defined",
     "output_type": "error",
     "traceback": [
      "\u001b[1;31m---------------------------------------------------------------------------\u001b[0m",
      "\u001b[1;31mNameError\u001b[0m                                 Traceback (most recent call last)",
      "Cell \u001b[1;32mIn[25], line 1\u001b[0m\n\u001b[1;32m----> 1\u001b[0m cm \u001b[38;5;241m=\u001b[39m confusion_matrix(y_test, y_pred_SVC)\n\u001b[0;32m      2\u001b[0m cm\n",
      "\u001b[1;31mNameError\u001b[0m: name 'y_test' is not defined"
     ]
    }
   ],
   "source": [
    "cm = confusion_matrix(y_test, y_pred_SVC)\n",
    "cm"
   ]
  },
  {
   "cell_type": "code",
   "execution_count": 51,
   "id": "918efada",
   "metadata": {},
   "outputs": [
    {
     "data": {
      "text/plain": [
       "0.8133333333333334"
      ]
     },
     "execution_count": 51,
     "metadata": {},
     "output_type": "execute_result"
    }
   ],
   "source": [
    "RF_model= RandomForestClassifier(n_estimators=20)\n",
    "RF_model.fit(x_train_scaler, y_train)\n",
    "y_pred_RF= RF_model.predict(x_test_scaler)\n",
    "RF_model.score(x_test_scaler,y_test)"
   ]
  },
  {
   "cell_type": "code",
   "execution_count": 52,
   "id": "3f2c261b",
   "metadata": {},
   "outputs": [
    {
     "name": "stdout",
     "output_type": "stream",
     "text": [
      "Classification Report\n",
      "               precision    recall  f1-score   support\n",
      "\n",
      "           0       0.80      0.84      0.82        38\n",
      "           1       0.83      0.78      0.81        37\n",
      "\n",
      "    accuracy                           0.81        75\n",
      "   macro avg       0.81      0.81      0.81        75\n",
      "weighted avg       0.81      0.81      0.81        75\n",
      "\n",
      "Accuracy: 81.33%\n",
      "\n"
     ]
    }
   ],
   "source": [
    "print('Classification Report\\n', classification_report(y_test, y_pred_RF))\n",
    "print('Accuracy: {}%\\n'.format(round((accuracy_score(y_test, y_pred_RF)*100),2)))"
   ]
  },
  {
   "cell_type": "code",
   "execution_count": 53,
   "id": "d09ecf0d",
   "metadata": {},
   "outputs": [
    {
     "data": {
      "text/plain": [
       "array([[32,  6],\n",
       "       [ 8, 29]], dtype=int64)"
      ]
     },
     "execution_count": 53,
     "metadata": {},
     "output_type": "execute_result"
    }
   ],
   "source": [
    "cm = confusion_matrix(y_test, y_pred_RF)\n",
    "cm"
   ]
  },
  {
   "cell_type": "code",
   "execution_count": 54,
   "id": "007ba914",
   "metadata": {},
   "outputs": [
    {
     "data": {
      "text/plain": [
       "0.7333333333333333"
      ]
     },
     "execution_count": 54,
     "metadata": {},
     "output_type": "execute_result"
    }
   ],
   "source": [
    "DT_model= DecisionTreeClassifier()\n",
    "DT_model.fit(x_train_scaler, y_train)\n",
    "y_pred_DT= DT_model.predict(x_test_scaler)\n",
    "DT_model.score(x_test_scaler,y_test)"
   ]
  },
  {
   "cell_type": "code",
   "execution_count": 55,
   "id": "3d9e80be",
   "metadata": {},
   "outputs": [
    {
     "name": "stdout",
     "output_type": "stream",
     "text": [
      "Classification Report\n",
      "               precision    recall  f1-score   support\n",
      "\n",
      "           0       0.76      0.68      0.72        38\n",
      "           1       0.71      0.78      0.74        37\n",
      "\n",
      "    accuracy                           0.73        75\n",
      "   macro avg       0.74      0.73      0.73        75\n",
      "weighted avg       0.74      0.73      0.73        75\n",
      "\n",
      "Accuracy: 73.33%\n",
      "\n"
     ]
    }
   ],
   "source": [
    "print('Classification Report\\n', classification_report(y_test, y_pred_DT))\n",
    "print('Accuracy: {}%\\n'.format(round((accuracy_score(y_test, y_pred_DT)*100),2)))\n"
   ]
  },
  {
   "cell_type": "code",
   "execution_count": 56,
   "id": "aa88f9c9",
   "metadata": {},
   "outputs": [
    {
     "data": {
      "text/plain": [
       "array([[26, 12],\n",
       "       [ 8, 29]], dtype=int64)"
      ]
     },
     "execution_count": 56,
     "metadata": {},
     "output_type": "execute_result"
    }
   ],
   "source": [
    "cm = confusion_matrix(y_test, y_pred_DT)\n",
    "cm"
   ]
  },
  {
   "cell_type": "markdown",
   "id": "3d5e64c3",
   "metadata": {},
   "source": [
    "## Classification Accuracy is one of the most common classification evaluation metrics to compare baseline algorithms as its the number of correct prediction made as a ratio of total prediction.\n",
    "\n",
    "We have tried 5 different Machine learning Classification algorithm for our model prediction and see how each models are perfoming with the help of evaluation metics like accuracy, precision and f1 score.\n",
    "\n",
    "We can clearly see that the Random forest model really perfomed well with the highest accuracy of 82.67% compared to other classification model.\n",
    "\n",
    "##Conclusion\n",
    "So in this notebook we have developed a different machine learning model to predict the chances of having heart disease or not and seen that Random forest classifier had the highest accuracy compared to other models."
   ]
  },
  {
   "cell_type": "code",
   "execution_count": null,
   "id": "910342bb",
   "metadata": {},
   "outputs": [],
   "source": []
  }
 ],
 "metadata": {
  "kernelspec": {
   "display_name": "Python [conda env:base] *",
   "language": "python",
   "name": "conda-base-py"
  },
  "language_info": {
   "codemirror_mode": {
    "name": "ipython",
    "version": 3
   },
   "file_extension": ".py",
   "mimetype": "text/x-python",
   "name": "python",
   "nbconvert_exporter": "python",
   "pygments_lexer": "ipython3",
   "version": "3.12.7"
  }
 },
 "nbformat": 4,
 "nbformat_minor": 5
}
